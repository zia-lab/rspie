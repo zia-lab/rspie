{
 "cells": [
  {
   "attachments": {},
   "cell_type": "markdown",
   "metadata": {},
   "source": [
    "# The Thinnest Slice of FDTD"
   ]
  },
  {
   "attachments": {},
   "cell_type": "markdown",
   "metadata": {},
   "source": [
    "How thin can a volume in FDTD be before artifacts start popping out?\n",
    "\n",
    "To study this consider a monochromatic field corresponding to a wavelength of 532 nm. Have a plane wave incident from inside a medium similar to water (n=1.33) and transmitting into air (n=1.0003).\n",
    "\n",
    "As a simulation region use a parallelepiped with square cross section 10 um on the side, and thickness H.\n",
    "\n",
    "Set up a source below the interface at a distance $\\lambda^* = \\max(\\lambda_1, \\lambda_2)$.\n",
    "\n",
    "Set up a monitor above the interface at a distance $\\lambda$ collecting all the components of the electric field.\n",
    "\n",
    "Leave a distance $\\kappa$ between the top edge of the simulation region and the monitor, and the same distance between the bottom edge of the simulation box and the source.\n",
    "\n",
    "As such the total thickness of the simulation region is $H =  2(\\kappa + \\lambda^*)$\n",
    "\n",
    "For each $\\kappa$ determine with the results of the monitor what fraction of the power $T(\\kappa)$ from the source transmitted into the upper volume.\n",
    "\n",
    "Vary $\\kappa$ from 0 to $4\\lambda^*$ and plot $T(\\kappa)$. When performing each simulation make sure to save the time that each simulation took to run, and also plot these as a function of $\\kappa$.\n"
   ]
  },
  {
   "cell_type": "code",
   "execution_count": 1,
   "metadata": {},
   "outputs": [],
   "source": [
    "import numpy as np\n",
    "import time\n",
    "import os\n",
    "%load_ext autoreload\n",
    "%autoreload 2\n",
    "import rspie as rs\n",
    "from matplotlib import pyplot as plt"
   ]
  },
  {
   "cell_type": "code",
   "execution_count": 17,
   "metadata": {},
   "outputs": [],
   "source": [
    "def bouncer(kappa):\n",
    "\tvartext = '''\n",
    "\tfilename = fdtdslice.ind\n",
    "\tprefix = fdtdslice\n",
    "\tH = 2*lambda_star + kappa\n",
    "\tH1 = lambda_star\n",
    "\tH2 = lambda_star + kappa\n",
    "\talpha = 0\n",
    "\tbackground_index = 1\n",
    "\tboundary_max = width/2\n",
    "\tboundary_max_y = width/2\n",
    "\tboundary_min = -width/2\n",
    "\tboundary_min_y = -width/2\n",
    "\tcad_aspectratio = 1\n",
    "\tdelta = index-background_index\n",
    "\tdimension = 3\n",
    "\tdomain_max = H2\n",
    "\tdomain_min = -H1\n",
    "\teim = 0\n",
    "\tfdtd_complex = 1\n",
    "\tfdtd_display_res_auto = DISPLAY_RES_AUTO\n",
    "\tfdtd_monitor_time = lambda/4\n",
    "\tfdtd_monitor_time_auto = MONITOR_TIME_AUTO\n",
    "\tfdtd_pml_cells_enable = 1\n",
    "\tfdtd_stop_auto = 1\n",
    "\tfdtd_stop_time = 25.696\n",
    "\tfdtd_stop_time_auto = 1\n",
    "\tfdtd_time_step = 0.0133\n",
    "\tfdtd_time_step_auto = 1\n",
    "\tfdtd_update_time = 9*lambda/4\n",
    "\tfdtd_update_time_auto = DISPLAY_TIME_AUTO\n",
    "\tfree_space_wavelength = 0.532\n",
    "\tgrid_resolution = 0.01\n",
    "\tgrid_size = grid_resolution\n",
    "\tgrid_size_y = grid_resolution\n",
    "\theight = width\n",
    "\tindex = 1\n",
    "\tindex_display_mode = DISPLAY_CONTOURMAPXZ\n",
    "\tk0 = (2*pi)/free_space_wavelength\n",
    "\tkappa = %f\n",
    "\tlambda = free_space_wavelength\n",
    "\tlambda_0 = free_space_wavelength\n",
    "\tlambda_1 = lambda_0/n1\n",
    "\tlambda_2 = lambda_0/n2\n",
    "\tlambda_star = max(lambda_1,lambda_2)\n",
    "\tlaunch_align_file = 1\n",
    "\tlaunch_height = inf\n",
    "\tlaunch_normalization = 2\n",
    "\tlaunch_tilt = 1\n",
    "\tlaunch_type = LAUNCH_PLANEWAVE\n",
    "\tlaunch_width = inf\n",
    "\tn1 = 2.41\n",
    "\tn2 = 1.0003\n",
    "\tsim_tool = ST_FULLWAVE\n",
    "\tstep_size = grid_resolution\n",
    "\tstructure = STRUCT_CHANNEL\n",
    "\twidth = 3''' % kappa\n",
    "\n",
    "\tbottom_segment = '''\n",
    "\t\textended = 1\n",
    "\t\tbegin.x = 0\n",
    "\t\tbegin.z = -lambda_star\n",
    "\t\tbegin.height = width\n",
    "\t\tbegin.delta = n1-background_index\n",
    "\t\tend.x = 0\n",
    "\t\tend.y = 0\n",
    "\t\tend.z = 0\n",
    "\t\tend.height = width\n",
    "\t\tend.delta = n1-background_index\n",
    "\t\t'''\n",
    "\ttop_segment = '''\n",
    "\t\tcolor = 11\n",
    "\t\textended = 1\n",
    "\t\tbegin.x = 0\n",
    "\t\tbegin.y = 0\n",
    "\t\tbegin.z = 0\n",
    "\t\tbegin.delta = n2-background_index\n",
    "\t\tend.x = 0\n",
    "\t\tend.y = 0\n",
    "\t\tend.z = H2\n",
    "\t\tend.delta = n2-background_index\n",
    "\t\t'''\n",
    "\n",
    "\tlaunch_text = '''\n",
    "\t\tlaunch_pathway = 1\n",
    "\t\tlaunch_type = LAUNCH_PLANEWAVE\n",
    "\t\tlaunch_tilt = 1\n",
    "\t\tlaunch_normalization = 2\n",
    "\t\tlaunch_align_file = 1\n",
    "\t\tlaunch_width = inf\n",
    "\t\tlaunch_height = inf\n",
    "\t'''\n",
    "\n",
    "\tmonitor_segment = '''\n",
    "\t\tprofile_type = PROF_INACTIVE\n",
    "\t\tcolor = 2\n",
    "\t\ttype = TIMEMON_EXTENDED\n",
    "\t\ttimeaverage = 2\n",
    "\t\tcomplexmonitor = 1\n",
    "\t\tmonitoroutputmask = 0\n",
    "\t\tmonitoroutputformat = OUTPUT_REAL_IMAG\n",
    "\t\tfieldoutputmask = 14\n",
    "\t\tfieldoutputformat = OUTPUT_REAL_IMAG\n",
    "\t\tfrequencyanalysis = TIMEMON_FA_DFT\n",
    "\t\tbegin.x = 0\n",
    "\t\tbegin.z = lambda_star\n",
    "\t\tbegin.height = width\n",
    "\t\t'''\n",
    "\n",
    "\tvars = rs.selfref_def_parser(vartext)\n",
    "\n",
    "\tconfig = {}\n",
    "\tconfig['vars'] = vars\n",
    "\tconfig['monitors'] = [rs.selfref_def_parser(monitor_segment, config['vars'])]\n",
    "\tconfig['segments'] = [bottom_segment, top_segment]\n",
    "\tfor idx, segment in enumerate(config['segments']):\n",
    "\t\tconfig['segments'][idx] = rs.selfref_def_parser(segment,  config['vars'])\n",
    "\tconfig['launch_fields'] = [rs.selfref_def_parser(launch_text, config['vars'])]\n",
    "\tcircuit = rs.PhotoCircuit(config)\n",
    "\tstart_time = time.time()\n",
    "\tcircuit.run()\n",
    "\tend_time = time.time()\n",
    "\tout_field = {}\n",
    "\tfor component in 'xyz':\n",
    "\t\tfname = os.path.join(circuit.sim_dir, 'fdtdslice_m3_f2_e%s.dat' % component)\n",
    "\t\tfield_format, x_coords, y_coords, num_array = rs.load_2d_dat(fname)\n",
    "\t\tout_field[component] = num_array\n",
    "\treturn config, start_time, end_time, x_coords, y_coords, out_field\n"
   ]
  },
  {
   "cell_type": "code",
   "execution_count": 18,
   "metadata": {},
   "outputs": [],
   "source": [
    "kappas =  np.linspace(0.01, 0.1, 10)"
   ]
  },
  {
   "cell_type": "code",
   "execution_count": 19,
   "metadata": {},
   "outputs": [
    {
     "data": {
      "text/plain": [
       "array([0.01, 0.02, 0.03, 0.04, 0.05, 0.06, 0.07, 0.08, 0.09, 0.1 ])"
      ]
     },
     "execution_count": 19,
     "metadata": {},
     "output_type": "execute_result"
    }
   ],
   "source": [
    "kappas"
   ]
  },
  {
   "cell_type": "code",
   "execution_count": 20,
   "metadata": {},
   "outputs": [
    {
     "name": "stdout",
     "output_type": "stream",
     "text": [
      "0.01\n",
      "0.020000000000000004\n",
      "0.030000000000000006\n",
      "0.04000000000000001\n",
      "0.05000000000000001\n",
      "0.06000000000000001\n",
      "0.07\n",
      "0.08\n",
      "0.09000000000000001\n",
      "0.1\n"
     ]
    }
   ],
   "source": [
    "runs = {}\n",
    "for kappa in kappas:\n",
    "    print(kappa)\n",
    "    runs[kappa] = bouncer(kappa)"
   ]
  },
  {
   "cell_type": "code",
   "execution_count": null,
   "metadata": {},
   "outputs": [],
   "source": [
    "import pickle"
   ]
  },
  {
   "cell_type": "code",
   "execution_count": null,
   "metadata": {},
   "outputs": [],
   "source": [
    "pickle.dump(runs, open('slice-runs-finer.pickle', 'wb'))"
   ]
  },
  {
   "cell_type": "code",
   "execution_count": null,
   "metadata": {},
   "outputs": [
    {
     "data": {
      "image/png": "[encoded data removed]",
      "text/plain": [
       "<Figure size 640x480 with 1 Axes>"
      ]
     },
     "metadata": {},
     "output_type": "display_data"
    }
   ],
   "source": [
    "squaredE = []\n",
    "for kappa in runs:\n",
    "    squaredE.append(np.sum(np.abs(runs[kappa][-1]['x'])**2))\n",
    "plt.figure()\n",
    "plt.plot(kappas, squaredE,'o--')\n",
    "plt.xlabel('kappa')\n",
    "plt.ylabel('sum(E^2)')\n",
    "plt.show()"
   ]
  },
  {
   "cell_type": "code",
   "execution_count": null,
   "metadata": {},
   "outputs": [
    {
     "data": {
      "image/png": "[encoded data removed]",
      "text/plain": [
       "<Figure size 640x480 with 1 Axes>"
      ]
     },
     "metadata": {},
     "output_type": "display_data"
    }
   ],
   "source": [
    "plt.figure()\n",
    "plt.plot(kappas[1::], squaredE[1::],'o--')\n",
    "plt.xlabel('kappa')\n",
    "plt.ylabel('sum(E^2)')\n",
    "plt.show()"
   ]
  },
  {
   "cell_type": "code",
   "execution_count": null,
   "metadata": {},
   "outputs": [
    {
     "data": {
      "text/plain": [
       "'{\"status\":1,\"request\":\"25902169-761b-4fc2-9f8c-6abbd138df15\"}'"
      ]
     },
     "execution_count": 84,
     "metadata": {},
     "output_type": "execute_result"
    }
   ],
   "source": [
    "rs.send_message('done')"
   ]
  },
  {
   "cell_type": "code",
   "execution_count": null,
   "metadata": {},
   "outputs": [],
   "source": []
  }
 ],
 "metadata": {
  "kernelspec": {
   "display_name": "rspie",
   "language": "python",
   "name": "python3"
  },
  "language_info": {
   "codemirror_mode": {
    "name": "ipython",
    "version": 3
   },
   "file_extension": ".py",
   "mimetype": "text/x-python",
   "name": "python",
   "nbconvert_exporter": "python",
   "pygments_lexer": "ipython3",
   "version": "3.9.15"
  },
  "orig_nbformat": 4
 },
 "nbformat": 4,
 "nbformat_minor": 2
}
